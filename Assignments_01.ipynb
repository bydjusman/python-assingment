{
  "nbformat": 4,
  "nbformat_minor": 0,
  "metadata": {
    "colab": {
      "provenance": [],
      "include_colab_link": true
    },
    "kernelspec": {
      "name": "python3",
      "display_name": "Python 3"
    },
    "language_info": {
      "name": "python"
    }
  },
  "cells": [
    {
      "cell_type": "markdown",
      "metadata": {
        "id": "view-in-github",
        "colab_type": "text"
      },
      "source": [
        "<a href=\"https://colab.research.google.com/github/bydjusman/python-assingment/blob/main/Assignments_01.ipynb\" target=\"_parent\"><img src=\"https://colab.research.google.com/assets/colab-badge.svg\" alt=\"Open In Colab\"/></a>"
      ]
    },
    {
      "cell_type": "markdown",
      "source": [
        "# **# Assignments 01**"
      ],
      "metadata": {
        "id": "HE-d0mbaWf8B"
      }
    },
    {
      "cell_type": "markdown",
      "source": [
        "# **01_basics**"
      ],
      "metadata": {
        "id": "Z_9_49vXWuMr"
      }
    },
    {
      "cell_type": "code",
      "execution_count": null,
      "metadata": {
        "colab": {
          "base_uri": "https://localhost:8080/"
        },
        "id": "ssIGJ7GmWWxw",
        "outputId": "261f2f12-ede0-410a-884f-c5d1d64d5e86"
      },
      "outputs": [
        {
          "output_type": "stream",
          "name": "stdout",
          "text": [
            "What do you want? joke\n",
            "Sorry I only tell jokes.\n"
          ]
        }
      ],
      "source": [
        "#00_joke_bot\n",
        "\n",
        "#Write a simple joke bot. The bot starts by asking the user what they want. However, your program will only respond to one response: Joke.\n",
        "# If the user enters Joke then we will print out a single joke. Each time the joke is always the same:\n",
        "# Here is a joke for you! Panaversity GPT - Sophia is heading out to the grocery store. A programmer tells her: get a liter of milk, and if they have eggs, get 12. Sophia returns with 13 liters of milk. The programmer asks why and Sophia replies: 'because they had eggs'\n",
        "# If the user enters anything else we print out:\n",
        "# Sorry I only tell jokes\n",
        "# You should use the three constants:\n",
        "# PROMPT JOKE SORRY\n",
        "# which contain the strings for the prompt asked to the user, the joke to print out if the user enters Joke and the sorry message if the user enters anything else.\n",
        "# Your program will need to use an if statement which checks if the user input is Joke:\n",
        "# if user_input == \"Joke\":\n",
        "# Recall that == is a comparison which tests if two values are equal to one another.\n",
        "# Here is a full run of the program (user input is in blue):\n",
        "# What do you want? Joke Here is a joke for you! Panaversity GPT - Sophia is heading out to the grocery store. A programmer tells her: get a liter of milk, and if they have eggs, get 12. Sophia returns with 13 liters of milk. The programmer asks why and Sophia replies: 'because they had eggs'\n",
        "\n",
        "# Constants\n",
        "PROMPT = \"What do you want? \"\n",
        "JOKE = \"Here is a joke for you! Panaversity GPT - Sophia is heading out to the grocery store. A programmer tells her: get a liter of milk, and if they have eggs, get 12. Sophia returns with 13 liters of milk. The programmer asks why and Sophia replies: 'because they had eggs'.\"\n",
        "SORRY = \"Sorry I only tell jokes.\"\n",
        "\n",
        "def main():\n",
        "    user_input = input(PROMPT)  # Ask the user what they want\n",
        "    if user_input == \"Joke\":  # Check if the input is \"Joke\"\n",
        "        print(JOKE)  # Print the joke\n",
        "    else:\n",
        "        print(SORRY)  # Print the sorry message\n",
        "\n",
        "# This provided line is required at the end of the Python file to call the main() function.\n",
        "if __name__ == '__main__':\n",
        "    main()"
      ]
    },
    {
      "cell_type": "code",
      "source": [
        "#01_double_it\n",
        "\n",
        "#Write a program that asks a user to enter a number. Your program will then double that number and print out the result. It will repeat that process until the value is 100 or greater.\n",
        "# For example if the user enters the number 2 you would then print:\n",
        "# 4 8 16 32 64 128\n",
        "# Note that:\n",
        "# 2 doubled is 4\n",
        "# 4 doubled is 8\n",
        "# 8 doubled is 16\n",
        "# and so on.\n",
        "# We stop at 128 because that value is greater than 100.\n",
        "# Maintain the current number in a variable named curr_value. When you double the number, you should be updating curr_value. Recall that you can double the value of curr_value using a line like:\n",
        "# curr_value = curr_value * 2\n",
        "# This program should have a while loop and the while loop condition should test if curr_value is less than 100. Thus, your program will have the line:\n",
        "# while curr_value < 100:\n",
        "\n",
        "def main():\n",
        "    # Ask the user to enter a number\n",
        "    user_input = input(\"Enter a number: \")\n",
        "\n",
        "    try:\n",
        "        # Convert the input to an integer\n",
        "        curr_value = int(user_input)\n",
        "\n",
        "        # Print the initial value\n",
        "        print(curr_value, end=\" \")\n",
        "\n",
        "        # Loop to double the value until it is 100 or greater\n",
        "        while curr_value < 100:\n",
        "            curr_value = curr_value * 2  # Double the current value\n",
        "            print(curr_value, end=\" \")  # Print the result\n",
        "\n",
        "        print()  # Print a newline at the end\n",
        "\n",
        "    except ValueError:\n",
        "        print(\"Please enter a valid integer.\")\n",
        "\n",
        "# This provided line is required at the end of the Python file to call the main() function.\n",
        "if __name__ == '__main__':\n",
        "    main()"
      ],
      "metadata": {
        "colab": {
          "base_uri": "https://localhost:8080/"
        },
        "id": "13foO9CqWynZ",
        "outputId": "00c7e5f3-cd1d-4a3f-90ee-890b2ac1386d"
      },
      "execution_count": null,
      "outputs": [
        {
          "output_type": "stream",
          "name": "stdout",
          "text": [
            "Enter a number: 5\n",
            "5 10 20 40 80 160 \n"
          ]
        }
      ]
    },
    {
      "cell_type": "code",
      "source": [
        "#02_liftoff\n",
        "\n",
        "#Write a program that prints out the calls for a spaceship that is about to launch. Countdown from 10 to 1 and then output Liftoff!\n",
        "# Here's a sample run of the program:\n",
        "# 10 9 8 7 6 5 4 3 2 1 Liftoff!\n",
        "# There are many ways to solve this problem. One approach is to use a for loop, and to use the for loop variable i. Recall that i will keep track of how many times the for loop has completed executing its body. As an example this code:\n",
        "# for i in range(10): print(i)\n",
        "# Will print out the values 0, 1, 2, 3, 4, 5, 6, 7, 8, 9. The values printed in liftoff are 10 minus the number of times the for loop has completed.\n",
        "\n",
        "def main():\n",
        "    # Countdown from 10 to 1\n",
        "    for i in range(10, 0, -1):  # Start at 10, go down to 1\n",
        "        print(i, end=\" \")  # Print the current number with a space\n",
        "    print(\"Liftoff!\")  # Print Liftoff! after the countdown\n",
        "\n",
        "# This provided line is required at the end of the Python file to call the main() function.\n",
        "if __name__ == '__main__':\n",
        "    main()"
      ],
      "metadata": {
        "colab": {
          "base_uri": "https://localhost:8080/"
        },
        "id": "owEXBNvVXv_T",
        "outputId": "d356660f-38c3-40e4-90a7-d333b5472389"
      },
      "execution_count": null,
      "outputs": [
        {
          "output_type": "stream",
          "name": "stdout",
          "text": [
            "10 9 8 7 6 5 4 3 2 1 Liftoff!\n"
          ]
        }
      ]
    },
    {
      "cell_type": "code",
      "source": [
        "#03_guess_my_number\n",
        "\n",
        "#Guess My Number\n",
        "# I am thinking of a number between 0 and 99... Enter a guess: 50 Your guess is too high\n",
        "# Enter a new number: 25 Your guess is too low\n",
        "# Enter a new number: 40 Your guess is too low\n",
        "# Enter a new number: 45 Your guess is too low\n",
        "# Enter a new number: 48 Congrats! The number was: 48\n",
        "import random\n",
        "\n",
        "def main():\n",
        "    # Generate a random number between 0 and 99\n",
        "    secret_number = random.randint(0, 99)\n",
        "    guess = None\n",
        "\n",
        "    print(\"I am thinking of a number between 0 and 99... 🤔\")\n",
        "\n",
        "    while guess != secret_number:\n",
        "        # Prompt the user for a guess\n",
        "        guess = int(input(\"Enter a guess: \"))\n",
        "\n",
        "        if guess < secret_number:\n",
        "            print(\"Your guess is too low. ⬇️\")\n",
        "        elif guess > secret_number:\n",
        "            print(\"Your guess is too high. ⬆️\")\n",
        "        else:\n",
        "            print(f\"Congrats! The number was: {secret_number} 🎉\")\n",
        "\n",
        "# This provided line is required at the end of the Python file to call the main() function.\n",
        "if __name__ == '__main__':\n",
        "    main()"
      ],
      "metadata": {
        "colab": {
          "base_uri": "https://localhost:8080/"
        },
        "id": "GSb3W2AaYFvw",
        "outputId": "2463146c-e57f-4427-8279-42e2bedc323b"
      },
      "execution_count": null,
      "outputs": [
        {
          "output_type": "stream",
          "name": "stdout",
          "text": [
            "I am thinking of a number between 0 and 99... 🤔\n",
            "Enter a guess: 60\n",
            "Your guess is too high. ⬆️\n",
            "Enter a guess: 50\n",
            "Congrats! The number was: 50 🎉\n"
          ]
        }
      ]
    },
    {
      "cell_type": "code",
      "source": [
        "#04_random_numbers\n",
        "\n",
        "# Print 10 random numbers in the range 1 to 100.\n",
        "# Here is an example run:\n",
        "# 45 79 61 47 52 10 16 83 19 12\n",
        "# Each time you run your program you should get different numbers\n",
        "# 81 76 70 1 27 63 96 100 32 92\n",
        "# Recall that the python random library has a function randint which returns an integer in the range set by the parameters (inclusive). For example this call would produce a random integer between 1 and 6, which could include 1 and could include 6:\n",
        "# value = random.randint(1, 6)\n",
        "\n",
        "import random\n",
        "\n",
        "def main():\n",
        "    random_numbers = []  # List to store random numbers\n",
        "\n",
        "    # Generate 10 random numbers in the range of 1 to 100\n",
        "    for _ in range(10):\n",
        "        number = random.randint(1, 100)\n",
        "        random_numbers.append(number)  # Add the random number to the list\n",
        "\n",
        "    # Print the random numbers\n",
        "    print(\" \".join(map(str, random_numbers)))  # Join numbers as a string with spaces\n",
        "\n",
        "# This provided line is required at the end of the Python file to call the main() function.\n",
        "if __name__ == '__main__':\n",
        "    main()"
      ],
      "metadata": {
        "colab": {
          "base_uri": "https://localhost:8080/"
        },
        "id": "pULZKSO1Yomu",
        "outputId": "f8e04e20-6e3e-4d08-cd45-aacc9fb4d18a"
      },
      "execution_count": null,
      "outputs": [
        {
          "output_type": "stream",
          "name": "stdout",
          "text": [
            "86 68 87 45 10 17 8 9 63 88\n"
          ]
        }
      ]
    },
    {
      "cell_type": "markdown",
      "source": [
        "# **02_intermediate**"
      ],
      "metadata": {
        "id": "FQ4wfOPuZQEG"
      }
    },
    {
      "cell_type": "markdown",
      "source": [
        "# Control Flow for Console"
      ],
      "metadata": {
        "id": "tilJra1NZfJv"
      }
    },
    {
      "cell_type": "code",
      "source": [
        "#handout\n",
        "\n",
        "# #Problem: High Low\n",
        "# We want you to gain more experience working with control flow and Booleans in Python. To do this, we are going to have you develop a game! The game is called High-Low and the way it's played goes as follows:\n",
        "# Two numbers are generated from 1 to 100 (inclusive on both ends): one for you and one for a computer, who will be your opponent. You can see your number, but not the computer's!\n",
        "# You make a guess, saying your number is either higher than or lower than the computer's number\n",
        "# If your guess matches the truth (ex. you guess your number is higher, and then your number is actually higher than the computer's), you get a point!\n",
        "# These steps make up one round of the game. The game is over after all rounds have been played.\n",
        "# We've provided a sample run below.\n",
        "import random\n",
        "\n",
        "NUM_ROUNDS = 5\n",
        "\n",
        "print(\"🎉 Welcome to the High-Low Game! 🎉\")\n",
        "print(\"--------------------------------\")\n",
        "\n",
        "def play_high_low():\n",
        "    # Initialize score and number of rounds\n",
        "    score = 0\n",
        "    rounds = NUM_ROUNDS  # Set a number of rounds\n",
        "\n",
        "    for _ in range(rounds):\n",
        "        player_number = random.randint(1, 100)\n",
        "        computer_number = random.randint(1, 100)\n",
        "\n",
        "        print(f\"🤔 Your number: {player_number}\")\n",
        "        guess = input(\"📊 Is your number higher or lower than the computer's number? (higher/lower): \").strip().lower()\n",
        "\n",
        "        # Check the guess\n",
        "        if (guess == \"higher\" and player_number > computer_number) or (guess == \"lower\" and player_number < computer_number):\n",
        "            score += 1\n",
        "            print(\"✅ Correct! You earn 1 point.\")\n",
        "        else:\n",
        "            print(\"❌ Incorrect! No points awarded.\")\n",
        "\n",
        "    print(f\"🏁 Game Over! Your total score: {score} 🎊\")\n",
        "\n",
        "play_high_low()\n"
      ],
      "metadata": {
        "colab": {
          "base_uri": "https://localhost:8080/"
        },
        "id": "9H7KhZ8jZkY0",
        "outputId": "fed5f503-f471-4b7c-d5f4-deeee30ec1f8"
      },
      "execution_count": null,
      "outputs": [
        {
          "output_type": "stream",
          "name": "stdout",
          "text": [
            "🎉 Welcome to the High-Low Game! 🎉\n",
            "--------------------------------\n",
            "🤔 Your number: 32\n",
            "📊 Is your number higher or lower than the computer's number? (higher/lower): 32\n",
            "❌ Incorrect! No points awarded.\n",
            "🤔 Your number: 2\n",
            "📊 Is your number higher or lower than the computer's number? (higher/lower): 30\n",
            "❌ Incorrect! No points awarded.\n",
            "🤔 Your number: 69\n",
            "📊 Is your number higher or lower than the computer's number? (higher/lower): 60\n",
            "❌ Incorrect! No points awarded.\n",
            "🤔 Your number: 53\n",
            "📊 Is your number higher or lower than the computer's number? (higher/lower): 70\n",
            "❌ Incorrect! No points awarded.\n",
            "🤔 Your number: 72\n",
            "📊 Is your number higher or lower than the computer's number? (higher/lower): 82\n",
            "❌ Incorrect! No points awarded.\n",
            "🏁 Game Over! Your total score: 0 🎊\n"
          ]
        }
      ]
    },
    {
      "cell_type": "code",
      "source": [
        "#Simple Solution\n",
        "import random\n",
        "\n",
        "NUM_ROUNDS = 5\n",
        "\n",
        "def main():\n",
        "    print(\"Welcome to the High-Low Game!\")\n",
        "    print('--------------------------------')\n",
        "\n",
        "    # Milestone 5: keep track of your score\n",
        "    your_score = 0\n",
        "\n",
        "    # Milestone 4: Play multiple rounds\n",
        "    for i in range(NUM_ROUNDS):\n",
        "        print(\"Round\", i + 1)\n",
        "        # Milestone 1: Generate the random numbers and print them out\n",
        "        computer_num: int = random.randint(1, 100)\n",
        "        your_num: int = random.randint(1, 100)\n",
        "        print(\"Your number is\", your_num)\n",
        "\n",
        "        # Milestone 2: Get user input for their choice\n",
        "        choice: str = input(\"Do you think your number is higher or lower than the computer's?: \")\n",
        "\n",
        "        # Milestone 3: Map out all the ways to win the round\n",
        "        higher_and_correct: bool = choice == \"higher\" and your_num > computer_num\n",
        "        lower_and_correct: bool = choice == \"lower\" and your_num < computer_num\n",
        "\n",
        "        if higher_and_correct or lower_and_correct:\n",
        "            print(\"You were right! The computer's number was\", computer_num)\n",
        "            # Milestone 5: keep track of your score\n",
        "            your_score += 1\n",
        "        else:\n",
        "            print(\"Aww, that's incorrect. The computer's number was\", computer_num)\n",
        "\n",
        "        # Milestone 5: keep track of your score\n",
        "        print(\"Your score is now\", your_score)\n",
        "        print()\n",
        "\n",
        "    print(\"Thanks for playing!\")\n",
        "\n",
        "if __name__ == \"__main__\":\n",
        "    main()\n"
      ],
      "metadata": {
        "colab": {
          "base_uri": "https://localhost:8080/"
        },
        "id": "xYynkIOictBU",
        "outputId": "0b988311-2b06-4bb1-a1be-fcbf095fa6f6"
      },
      "execution_count": null,
      "outputs": [
        {
          "output_type": "stream",
          "name": "stdout",
          "text": [
            "Welcome to the High-Low Game!\n",
            "--------------------------------\n",
            "Round 1\n",
            "Your number is 1\n",
            "Do you think your number is higher or lower than the computer's?: 3\n",
            "Aww, that's incorrect. The computer's number was 82\n",
            "Your score is now 0\n",
            "\n",
            "Round 2\n",
            "Your number is 32\n",
            "Do you think your number is higher or lower than the computer's?: 7\n",
            "Aww, that's incorrect. The computer's number was 36\n",
            "Your score is now 0\n",
            "\n",
            "Round 3\n",
            "Your number is 55\n",
            "Do you think your number is higher or lower than the computer's?: 80\n",
            "Aww, that's incorrect. The computer's number was 86\n",
            "Your score is now 0\n",
            "\n",
            "Round 4\n",
            "Your number is 27\n",
            "Do you think your number is higher or lower than the computer's?: 30\n",
            "Aww, that's incorrect. The computer's number was 100\n",
            "Your score is now 0\n",
            "\n",
            "Round 5\n",
            "Your number is 17\n",
            "Do you think your number is higher or lower than the computer's?: 40\n",
            "Aww, that's incorrect. The computer's number was 95\n",
            "Your score is now 0\n",
            "\n",
            "Thanks for playing!\n"
          ]
        }
      ]
    },
    {
      "cell_type": "markdown",
      "source": [
        "# **# Intro to Python**"
      ],
      "metadata": {
        "id": "tnkXLpdOfkLH"
      }
    },
    {
      "cell_type": "markdown",
      "source": [
        "# **Planetary Weight** **Calculator**"
      ],
      "metadata": {
        "id": "PZkfAAoidjJc"
      }
    },
    {
      "cell_type": "markdown",
      "source": [
        "# Milestone #1: Mars Weight"
      ],
      "metadata": {
        "id": "S4ufS6IXdtxF"
      }
    },
    {
      "cell_type": "code",
      "source": [
        "# Milestone #1: Mars Weight Calculator\n",
        "\n",
        "# Constants\n",
        "MARS_GRAVITY = 0.378\n",
        "\n",
        "# Get user input\n",
        "weight_on_earth = float(input(\"Enter a weight on Earth: \"))\n",
        "\n",
        "# Calculate weight on Mars\n",
        "weight_on_mars = weight_on_earth * MARS_GRAVITY\n",
        "\n",
        "# Round to two decimal places\n",
        "rounded_weight_on_mars = round(weight_on_mars, 2)\n",
        "\n",
        "# Print the result\n",
        "print(f\"The equivalent on Mars: {rounded_weight_on_mars}\")"
      ],
      "metadata": {
        "colab": {
          "base_uri": "https://localhost:8080/"
        },
        "id": "w4PFPwJqdzHb",
        "outputId": "c26d0ad9-66d4-48b3-f3d0-75ab549862b4"
      },
      "execution_count": null,
      "outputs": [
        {
          "output_type": "stream",
          "name": "stdout",
          "text": [
            "Enter a weight on Earth: 60\n",
            "The equivalent on Mars: 22.68\n"
          ]
        }
      ]
    },
    {
      "cell_type": "markdown",
      "source": [
        "# Milestone #2: Adding in All Planets"
      ],
      "metadata": {
        "id": "ccfZ1EJXePch"
      }
    },
    {
      "cell_type": "code",
      "source": [
        "# Milestone #2: Planetary Weight Calculator\n",
        "\n",
        "# Constants for gravitational pull\n",
        "gravity_constants = {\n",
        "    \"Mercury\": 0.376,\n",
        "    \"Venus\": 0.889,\n",
        "    \"Earth\": 1.00,  # Use 1.00 for Earth's gravity relative to Earth\n",
        "    \"Mars\": 0.378,\n",
        "    \"Jupiter\": 2.36,\n",
        "    \"Saturn\": 1.081,\n",
        "    \"Uranus\": 0.815,\n",
        "    \"Neptune\": 1.14\n",
        "}\n",
        "\n",
        "# Get user input\n",
        "weight_on_earth = float(input(\"Enter a weight on Earth: \"))\n",
        "planet = input(\"Enter a planet: \")\n",
        "\n",
        "# Calculate weight on the specified planet\n",
        "if planet in gravity_constants:\n",
        "    weight_on_planet = weight_on_earth * gravity_constants[planet]\n",
        "    rounded_weight_on_planet = round(weight_on_planet, 2)\n",
        "    print(f\"The equivalent weight on {planet}: {rounded_weight_on_planet}\")\n",
        "else:\n",
        "    print(\"Invalid planet name.\")"
      ],
      "metadata": {
        "colab": {
          "base_uri": "https://localhost:8080/"
        },
        "id": "z_6pfcfMeRxM",
        "outputId": "d8b98934-166e-4c60-920f-c68aa9786e1a"
      },
      "execution_count": null,
      "outputs": [
        {
          "output_type": "stream",
          "name": "stdout",
          "text": [
            "Enter a weight on Earth: 70\n",
            "Enter a planet: Mars\n",
            "The equivalent weight on Mars: 26.46\n"
          ]
        }
      ]
    },
    {
      "cell_type": "markdown",
      "source": [
        "# **Lists and Dicts**"
      ],
      "metadata": {
        "id": "gatNNVo7ftBz"
      }
    },
    {
      "cell_type": "markdown",
      "source": [
        "## Problem #1: List Practice"
      ],
      "metadata": {
        "id": "3ICEv_AKf4Wn"
      }
    },
    {
      "cell_type": "code",
      "source": [
        "# Problem #1: List Practice\n",
        "# Now practice writing code with lists! Implement the functionality described in the comments below.\n",
        "# def main(): # Create a list called fruit_list that contains the following fruits: # 'apple', 'banana', 'orange', 'grape', 'pineapple'.\n",
        "# # Print the length of the list.\n",
        "# # Add 'mango' at the end of the list.\n",
        "# # Print the updated list.\n",
        "\n",
        "def main():\n",
        "    # Create a list called fruit_list that contains the following fruits\n",
        "    fruit_list = ['apple', 'banana', 'orange', 'grape', 'pineapple']\n",
        "\n",
        "    # Print the length of the list\n",
        "    print(\"Length of the list:\", len(fruit_list))\n",
        "\n",
        "    # Add 'mango' at the end of the list\n",
        "    fruit_list.append('mango')\n",
        "\n",
        "    # Print the updated list\n",
        "    print(\"Updated fruit list:\", fruit_list)\n",
        "\n",
        "# Call the main function to execute the code\n",
        "main()"
      ],
      "metadata": {
        "colab": {
          "base_uri": "https://localhost:8080/"
        },
        "id": "3VhfPWwEf6An",
        "outputId": "8f064315-ede0-41eb-d68d-931785926588"
      },
      "execution_count": null,
      "outputs": [
        {
          "output_type": "stream",
          "name": "stdout",
          "text": [
            "Length of the list: 5\n",
            "Updated fruit list: ['apple', 'banana', 'orange', 'grape', 'pineapple', 'mango']\n"
          ]
        }
      ]
    },
    {
      "cell_type": "markdown",
      "source": [
        "# Problem #2: Index Game"
      ],
      "metadata": {
        "id": "xb_anzIxgRT6"
      }
    },
    {
      "cell_type": "code",
      "source": [
        "def access_element(my_list, index):\n",
        "    \"\"\"Access an element at a given index.\"\"\"\n",
        "    if index < 0 or index >= len(my_list):\n",
        "        return \"Index out of range.\"\n",
        "    return my_list[index]\n",
        "\n",
        "def modify_element(my_list, index, new_value):\n",
        "    \"\"\"Modify an element at a given index with a new value.\"\"\"\n",
        "    if index < 0 or index >= len(my_list):\n",
        "        return \"Index out of range.\"\n",
        "    my_list[index] = new_value\n",
        "    return my_list\n",
        "\n",
        "def slice_list(my_list, start_index, end_index):\n",
        "    \"\"\"Return a sliced version of the list from start_index to end_index.\"\"\"\n",
        "    if start_index < 0 or end_index > len(my_list):\n",
        "        return \"Index out of range.\"\n",
        "    return my_list[start_index:end_index]\n",
        "\n",
        "def main():\n",
        "    # Initialize a list with at least 5 different elements\n",
        "    my_list = [10, 'apple', 3.14, 'banana', 42]\n",
        "\n",
        "    while True:\n",
        "        print(\"\\nCurrent list:\", my_list)\n",
        "        print(\"Choose an operation:\")\n",
        "        print(\"1. Access an element\")\n",
        "        print(\"2. Modify an element\")\n",
        "        print(\"3. Slice the list\")\n",
        "        print(\"4. Exit\")\n",
        "\n",
        "        choice = input(\"Enter the number of your choice: \")\n",
        "\n",
        "        if choice == '1':\n",
        "            index = int(input(\"Enter the index of the element to access: \"))\n",
        "            result = access_element(my_list, index)\n",
        "            print(\"Accessed element:\", result)\n",
        "\n",
        "        elif choice == '2':\n",
        "            index = int(input(\"Enter the index of the element to modify: \"))\n",
        "            new_value = input(\"Enter the new value: \")\n",
        "            result = modify_element(my_list, index, new_value)\n",
        "            print(\"Updated list:\", result)\n",
        "\n",
        "        elif choice == '3':\n",
        "            start_index = int(input(\"Enter the start index for slicing: \"))\n",
        "            end_index = int(input(\"Enter the end index for slicing: \"))\n",
        "            result = slice_list(my_list, start_index, end_index)\n",
        "            print(\"Sliced list:\", result)\n",
        "\n",
        "        elif choice == '4':\n",
        "            print(\"Exiting the game.\")\n",
        "            break\n",
        "\n",
        "        else:\n",
        "            print(\"Invalid choice. Please try again.\")\n",
        "\n",
        "# Run the main function\n",
        "main()"
      ],
      "metadata": {
        "colab": {
          "base_uri": "https://localhost:8080/"
        },
        "id": "QP1RLh2eglql",
        "outputId": "8db18f6c-2baf-4b2c-c79d-b07d437c8628"
      },
      "execution_count": null,
      "outputs": [
        {
          "output_type": "stream",
          "name": "stdout",
          "text": [
            "\n",
            "Current list: [10, 'apple', 3.14, 'banana', 42]\n",
            "Choose an operation:\n",
            "1. Access an element\n",
            "2. Modify an element\n",
            "3. Slice the list\n",
            "4. Exit\n",
            "Enter the number of your choice: 1\n",
            "Enter the index of the element to access:  1\n",
            "Accessed element: apple\n",
            "\n",
            "Current list: [10, 'apple', 3.14, 'banana', 42]\n",
            "Choose an operation:\n",
            "1. Access an element\n",
            "2. Modify an element\n",
            "3. Slice the list\n",
            "4. Exit\n",
            "Enter the number of your choice: 2\n",
            "Enter the index of the element to modify: 2\n",
            "Enter the new value: \"Mango\"\n",
            "Updated list: [10, 'apple', '\"Mango\"', 'banana', 42]\n",
            "\n",
            "Current list: [10, 'apple', '\"Mango\"', 'banana', 42]\n",
            "Choose an operation:\n",
            "1. Access an element\n",
            "2. Modify an element\n",
            "3. Slice the list\n",
            "4. Exit\n",
            "Enter the number of your choice: 3\n",
            "Enter the start index for slicing: 2\n",
            "Enter the end index for slicing: 1\n",
            "Sliced list: []\n",
            "\n",
            "Current list: [10, 'apple', '\"Mango\"', 'banana', 42]\n",
            "Choose an operation:\n",
            "1. Access an element\n",
            "2. Modify an element\n",
            "3. Slice the list\n",
            "4. Exit\n",
            "Enter the number of your choice: 4\n",
            "Exiting the game.\n"
          ]
        }
      ]
    }
  ]
}