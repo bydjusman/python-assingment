{
  "nbformat": 4,
  "nbformat_minor": 0,
  "metadata": {
    "colab": {
      "provenance": [],
      "authorship_tag": "ABX9TyO6uNyqRpMnZhjchttfPD+1",
      "include_colab_link": true
    },
    "kernelspec": {
      "name": "python3",
      "display_name": "Python 3"
    },
    "language_info": {
      "name": "python"
    }
  },
  "cells": [
    {
      "cell_type": "markdown",
      "metadata": {
        "id": "view-in-github",
        "colab_type": "text"
      },
      "source": [
        "<a href=\"https://colab.research.google.com/github/bydjusman/python-assingment/blob/main/Project_4_Assignments_00_to_05.ipynb\" target=\"_parent\"><img src=\"https://colab.research.google.com/assets/colab-badge.svg\" alt=\"Open In Colab\"/></a>"
      ]
    },
    {
      "cell_type": "markdown",
      "source": [
        "00_intro_python"
      ],
      "metadata": {
        "id": "K8Mvni5c3LWe"
      }
    },
    {
      "cell_type": "markdown",
      "source": [
        "Assignments 00 to **05**\n"
      ],
      "metadata": {
        "id": "zfEPEM_V4hqR"
      }
    },
    {
      "cell_type": "markdown",
      "source": [
        "01 Add to *Numbers*\n"
      ],
      "metadata": {
        "id": "HxDrVxkM45YH"
      }
    },
    {
      "cell_type": "code",
      "source": [
        "#01_add_two_numbers\n",
        "\n",
        "#Write a Python program that takes two integer inputs from the user and calculates their sum. The program should perform the following tasks:\n",
        "#Prompt the user to enter the first number.\n",
        "#Read the input and convert it to an integer.\n",
        "#Prompt the user to enter the second number.\n",
        "#Read the input and convert it to an integer.\n",
        "#Calculate the sum of the two numbers.\n",
        "#Print the total sum with an appropriate message.\n",
        "#The provided solution demonstrates a working implementation of this problem, where the main() function guides the user through the process of entering two numbers and displays their sum.\n",
        "\n",
        "\n",
        "def main():\n",
        "    # Prompt the user for the first number and convert it to an integer\n",
        "    num1 = int(input(\"Enter the first number: \"))\n",
        "\n",
        "    # Prompt the user for the second number and convert it to an integer\n",
        "    num2 = int(input(\"Enter the second number: \"))\n",
        "\n",
        "    # Calculate the sum of the two numbers\n",
        "    total = num1 + num2\n",
        "\n",
        "    # Print the result with an appropriate message\n",
        "    print(f\"The sum is {total}\")\n",
        "\n",
        "if __name__ == \"__main__\":\n",
        "    main()"
      ],
      "metadata": {
        "colab": {
          "base_uri": "https://localhost:8080/"
        },
        "id": "98CQy1lt49U5",
        "outputId": "aaa2d514-df72-4e00-89cc-277706e12f13"
      },
      "execution_count": null,
      "outputs": [
        {
          "output_type": "stream",
          "name": "stdout",
          "text": [
            "Enter the first number: 22\n",
            "Enter the second number: 44\n",
            "The sum is 66\n"
          ]
        }
      ]
    },
    {
      "cell_type": "code",
      "source": [
        "#02_agreement_bot\n",
        "\n",
        "#Write a program which asks the user what their favorite animal is, and then always responds with \"My favorite animal is also ___!\" (the blank should be filled in with the user-inputted animal, of course).\n",
        "#Here's a sample run of the program (user input is in bold italics - note the space between the prompt and the user input!):\n",
        "#What's your favorite animal? cow\n",
        "#My favorite animal is also cow!\n",
        "\n",
        "\n",
        "def main():\n",
        "    animal = input(\"What's your favorite animal? \")\n",
        "    print(f\"My favorite animal is also {animal}!\")\n",
        "\n",
        "if __name__ == \"__main__\":\n",
        "    main()"
      ],
      "metadata": {
        "id": "AJbp8MOiC5w_"
      },
      "execution_count": null,
      "outputs": []
    },
    {
      "cell_type": "code",
      "source": [
        "#03_fahrenheit_to_celsius\n",
        "\n",
        "#Write a program which prompts the user for a temperature in Fahrenheit (this can be a number with decimal places!) and outputs the temperature converted to Celsius.\n",
        "#The Celsius scale is widely used to measure temperature, but places still use Fahrenheit. Fahrenheit is another unit for temperature, but the scale is different from Celsius -- for example, 0 degrees Celsius is 32 degrees Fahrenheit!\n",
        "#The equation you should use for converting from Fahrenheit to Celsius is the following:\n",
        "#degrees_celsius = (degrees_fahrenheit - 32) * 5.0/9.0\n",
        "#(Note. The .0 after the 5 and 9 matters in the line above!!!)\n",
        "#Here's a sample run of the program (user input is in bold italics):\n",
        "#Enter temperature in Fahrenheit: 76\n",
        "#Temperature: 76.0F = 24.444444444444443C\n",
        "\n",
        "\n",
        "def main():\n",
        "    fahrenheit = float(input(\"Enter temperature in Fahrenheit: \"))\n",
        "    celsius = (fahrenheit - 32) * 5.0 / 9.0\n",
        "    print(f\"Temperature: {fahrenheit}F = {celsius}C\")\n",
        "\n",
        "if __name__ == \"__main__\":\n",
        "    main()\n"
      ],
      "metadata": {
        "id": "FOgkkPqpC8XB"
      },
      "execution_count": null,
      "outputs": []
    },
    {
      "cell_type": "code",
      "source": [
        "#04_how_old_are_they\n",
        "\n",
        "#Write a program to solve this age-related riddle!\n",
        "# Anton, Beth, Chen, Drew, and Ethan are all friends. Their ages are as follows:\n",
        "# Anton is 21 years old.\n",
        "# Beth is 6 years older than Anton.\n",
        "# Chen is 20 years older than Beth.\n",
        "# Drew is as old as Chen's age plus Anton's age.\n",
        "# Ethan is the same age as Chen.\n",
        "# Your code should store each person's age to a variable and print their names and ages at the end. The autograder is sensitive to capitalization and punctuation, be careful! Your solution should look like this (the below numbers are made up -- your solution should have the correct values!):\n",
        "\n",
        "# Anton is 3\n",
        "# Beth is 4\n",
        "# Chen is 5\n",
        "# Drew is 6\n",
        "# Ethan is 7\n",
        "\n",
        "\n",
        "# Calculate each person's age based on the given relationships\n",
        "anton = 21\n",
        "beth = anton + 6\n",
        "chen = beth + 20\n",
        "drew = chen + anton\n",
        "ethan = chen\n",
        "\n",
        "# Print each name and age in the specified format\n",
        "print(f\"Anton is {anton}\")\n",
        "print(f\"Beth is {beth}\")\n",
        "print(f\"Chen is {chen}\")\n",
        "print(f\"Drew is {drew}\")\n",
        "print(f\"Ethan is {ethan}\")\n"
      ],
      "metadata": {
        "id": "P_e7rzBvDZ5p"
      },
      "execution_count": null,
      "outputs": []
    },
    {
      "cell_type": "code",
      "source": [
        "#05_triangle_perimeter\n",
        "\n",
        "#Prompt the user to enter the lengths of each side of a triangle and then calculate and print the perimeter of the triangle (the sum of all of the side lengths).\n",
        "#Here's a sample run of the program (user input is in bold italics):\n",
        "#What is the length of side 1? 3\n",
        "#What is the length of side 2? 4\n",
        "#What is the length of side 3? 5.5\n",
        "#The perimeter of the triangle is 12.5\n",
        "\n",
        "def main():\n",
        "    # Prompt for each side and convert to float\n",
        "    side1 = float(input(\"What is the length of side 1? \"))\n",
        "    side2 = float(input(\"What is the length of side 2? \"))\n",
        "    side3 = float(input(\"What is the length of side 3? \"))\n",
        "\n",
        "    # Calculate the perimeter\n",
        "    perimeter = side1 + side2 + side3\n",
        "\n",
        "    # Print the result\n",
        "    print(f\"The perimeter of the triangle is {perimeter}\")\n",
        "\n",
        "if __name__ == \"__main__\":\n",
        "    main()\n"
      ],
      "metadata": {
        "id": "198NmGvZDfmI"
      },
      "execution_count": null,
      "outputs": []
    },
    {
      "cell_type": "code",
      "source": [
        "#06_square_number\n",
        "\n",
        "#Ask the user for a number and print its square (the product of the number times itself).\n",
        "# Here's a sample run of the program (user input is in bold italics):\n",
        "# Type a number to see its square: 4\n",
        "# 4.0 squared is 16.0\n",
        "\n",
        "def main():\n",
        "    num = float(input(\"Type a number to see its square: \"))\n",
        "    square = num * num\n",
        "    print(f\"{num} squared is {square}\")\n",
        "\n",
        "if __name__ == \"__main__\":\n",
        "    main()\n"
      ],
      "metadata": {
        "id": "mtBRepEJD_o0"
      },
      "execution_count": null,
      "outputs": []
    },
    {
      "cell_type": "markdown",
      "source": [
        "**01_expressions**"
      ],
      "metadata": {
        "id": "GSI7IBkqEb7E"
      }
    },
    {
      "cell_type": "code",
      "source": [
        "#01_dicesimulator\n",
        "\n",
        "#Simulate rolling two dice, three times. Prints the results of each die roll. This program is used to show how variable scope works.\n",
        "\n",
        "import random\n",
        "\n",
        "def roll_dice():\n",
        "    # Local variables - exist only inside this function\n",
        "    die1 = random.randint(1, 6)\n",
        "    die2 = random.randint(1, 6)\n",
        "    print(f\"Roll: {die1} and {die2}\")\n",
        "\n",
        "# Global scope - calling the function 3 times\n",
        "print(\"Rolling two dice three times:\")\n",
        "for _ in range(3):\n",
        "    roll_dice()\n",
        "\n",
        "# This would cause an error if uncommented - die1/die2 only exist in the function\n",
        "# print(die1, die2)"
      ],
      "metadata": {
        "id": "MYFZggXiEiWM"
      },
      "execution_count": null,
      "outputs": []
    },
    {
      "cell_type": "code",
      "source": [
        "#02_e=mc2\n",
        "\n",
        "# Write a program that continually reads in mass from the user and then outputs the equivalent energy using Einstein's mass-energy equivalence formula (E stands for energy, m stands for mass, and C is the speed of light:\n",
        "# E = m * c**2\n",
        "# Almost 100 years ago, Albert Einstein famously discovered that mass and energy are interchangeable and are related by the above equation. You should ask the user for mass (m) in kilograms and use a constant value for the speed of light -- C = 299792458 m/s.\n",
        "# Here's a sample run of the program (user input is in bold italics):\n",
        "# Enter kilos of mass: 100\n",
        "# e = m * C^2...\n",
        "# m = 100.0 kg\n",
        "# C = 299792458 m/s\n",
        "# 8.987551787368176e+18 joules of energy!\n",
        "\n",
        "\n",
        "# Read mass input from the user\n",
        "mass = float(input(\"Enter kilos of mass: \"))\n",
        "\n",
        "# Constants\n",
        "C = 299792458  # Speed of light in m/s\n",
        "\n",
        "# Calculate energy using E = mc^2\n",
        "energy = mass * (C ** 2)\n",
        "\n",
        "# Print the results in the specified format\n",
        "print(\"e = m * C^2...\")\n",
        "print(f\"m = {mass:.1f} kg\")\n",
        "print(f\"C = {C} m/s\")\n",
        "print(f\"{energy} joules of energy!\")\n"
      ],
      "metadata": {
        "id": "uedhZDs1E8WZ"
      },
      "execution_count": null,
      "outputs": []
    },
    {
      "cell_type": "code",
      "source": [
        "#03_feet_to_inches\n",
        "\n",
        "#Converts feet to inches. Feet is an American unit of measurement. There are 12 inches per foot. Foot is the singular, and feet is the plural.\n",
        "\n",
        "# Read the number of feet from the user\n",
        "feet = float(input(\"Enter the number of feet: \"))\n",
        "\n",
        "# Calculate the equivalent inches\n",
        "inches = feet * 12\n",
        "\n",
        "# Determine if the unit should be 'foot' or 'feet'\n",
        "if feet == 1.0:\n",
        "    unit = \"foot\"\n",
        "else:\n",
        "    unit = \"feet\"\n",
        "\n",
        "# Format feet to remove .0 if it's a whole number\n",
        "display_feet = int(feet) if feet.is_integer() else feet\n",
        "\n",
        "# Format inches similarly\n",
        "display_inches = int(inches) if inches.is_integer() else inches\n",
        "\n",
        "# Print the result\n",
        "print(f\"{display_feet} {unit} is {display_inches} inches.\")"
      ],
      "metadata": {
        "id": "KrRCGeCaFA8s"
      },
      "execution_count": null,
      "outputs": []
    },
    {
      "cell_type": "code",
      "source": [
        "#04_pythagorean_theorem\n",
        "\n",
        "#Write a program that asks the user for the lengths of the two perpendicular sides of a right triangle and outputs the length of the third side (the hypotenuse) using the Pythagorean theorem!\n",
        "# The Pythagorean theorem, named after the ancient Greek thinker, Pythagoras, is a fundamental relation in geometry. It states that in a right triangle, the square of the hypotenuse is equal to the sum of the square of the other two sides.\n",
        "# For instance, let's consider a right triangle ABC, with the right angle located at C. According to the Pythagorean theorem:\n",
        "# BC ** 2 = AB ** 2 + AC ** 2\n",
        "# Your code should read in the lengths of the sides AB and AC, and that outputs the length of the hypotenuse (BC). You will probably find math.sqrt() to be useful.\n",
        "# Here's a sample run of the program (user input is in bold italics):\n",
        "# Enter the length of AB: 3\n",
        "# Enter the length of AC: 4\n",
        "# The length of BC (the hypotenuse) is: 5.0\n",
        "\n",
        "\n",
        "import math\n",
        "\n",
        "# Read the lengths of the two perpendicular sides\n",
        "ab = float(input(\"Enter the length of AB: \"))\n",
        "ac = float(input(\"Enter the length of AC: \"))\n",
        "\n",
        "# Calculate the hypotenuse using the Pythagorean theorem\n",
        "hypotenuse = math.sqrt(ab ** 2 + ac ** 2)\n",
        "\n",
        "# Print the result with the required message\n",
        "print(f\"The length of BC (the hypotenuse) is: {hypotenuse}\")\n"
      ],
      "metadata": {
        "id": "OWF9vk80FC7z"
      },
      "execution_count": null,
      "outputs": []
    },
    {
      "cell_type": "code",
      "source": [
        "#05_remainder_division\n",
        "\n",
        "#Ask the user for two numbers, one at a time, and then print the result of dividing the first number by the second and also the remainder of the division.\n",
        "# Here's a sample run of the program (user input is in bold italics):\n",
        "# Please enter an integer to be divided: 5\n",
        "# Please enter an integer to divide by: 3\n",
        "# The result of this division is 1 with a remainder of 2\n",
        "\n",
        "# Prompt the user for the two integers\n",
        "dividend = int(input(\"Please enter an integer to be divided: \"))\n",
        "divisor = int(input(\"Please enter an integer to divide by: \"))\n",
        "\n",
        "# Calculate the quotient and remainder\n",
        "quotient = dividend // divisor\n",
        "remainder = dividend % divisor\n",
        "\n",
        "# Print the result\n",
        "print(f\"The result of this division is {quotient} with a remainder of {remainder}\")\n"
      ],
      "metadata": {
        "id": "xG7xjkpnFJa2"
      },
      "execution_count": null,
      "outputs": []
    },
    {
      "cell_type": "code",
      "source": [
        "#06_rolldice\n",
        "\n",
        "#Simulate rolling two dice, and prints results of each roll as well as the total.\n",
        "\n",
        "import random\n",
        "\n",
        "# Simulate rolling two dice\n",
        "die1 = random.randint(1, 6)\n",
        "die2 = random.randint(1, 6)\n",
        "total = die1 + die2\n",
        "\n",
        "# Print the results\n",
        "print(f\"First die: {die1}\")\n",
        "print(f\"Second die: {die2}\")\n",
        "print(f\"Total: {total}\")\n"
      ],
      "metadata": {
        "id": "OQzrKJ2iFNxQ"
      },
      "execution_count": null,
      "outputs": []
    },
    {
      "cell_type": "code",
      "source": [
        "#06_seconds_in_year\n",
        "\n",
        "#Use Python to calculate the number of seconds in a year, and tell the user what the result is in a nice print statement that looks like this (of course the value 5 should be the calculated number instead):\n",
        "#There are 5 seconds in a year!\n",
        "#You should use constants for this exercise -- there are 365 days in a year, 24 hours in a day, 60 minutes in an hour, and 60 seconds per minute.\n",
        "\n",
        "\n",
        "# Constants for time calculations\n",
        "DAYS_IN_YEAR = 365\n",
        "HOURS_IN_DAY = 24\n",
        "MINUTES_IN_HOUR = 60\n",
        "SECONDS_IN_MINUTE = 60\n",
        "\n",
        "# Calculate total seconds\n",
        "total_seconds = DAYS_IN_YEAR * HOURS_IN_DAY * MINUTES_IN_HOUR * SECONDS_IN_MINUTE\n",
        "\n",
        "# Display result in specified format\n",
        "print(f\"There are {total_seconds} seconds in a year!\")\n"
      ],
      "metadata": {
        "id": "Z_JjjddcFhQk"
      },
      "execution_count": null,
      "outputs": []
    },
    {
      "cell_type": "code",
      "source": [
        "#07_tiny_mad_lib\n",
        "\n",
        "# Write a program which prompts the user for an adjective, then a noun, then a verb, and then prints a fun sentence with those words!\n",
        "# Mad Libs is a word game where players are prompted for one word at a time, and the words are eventually filled into the blanks of a word template to make an entertaining story! We've provided you with the beginning of a sentence (the SENTENCE_START constant) which will end in a user-inputted adjective, noun, and then verb.\n",
        "# Here's a sample run (user input is in bold italics):\n",
        "# Please type an adjective and press enter. tiny\n",
        "# Please type a noun and press enter. plant\n",
        "# Please type a verb and press enter. fly\n",
        "# Code in Place is fun. I learned to program and used Python to make my tiny plant fly!\n",
        "\n",
        "sentence_start = \"Code in Place is fun. I learned to program and used Python to make my \"\n",
        "\n",
        "# Prompt the user for each word type\n",
        "adjective = input(\"Please type an adjective and press enter. \")\n",
        "noun = input(\"Please type a noun and press enter. \")\n",
        "verb = input(\"Please type a verb and press enter. \")\n",
        "\n",
        "# Construct and print the final sentence\n",
        "print(sentence_start + adjective + \" \" + noun + \" \" + verb + \"!\")\n"
      ],
      "metadata": {
        "id": "FfpLCkqdFlUI"
      },
      "execution_count": null,
      "outputs": []
    },
    {
      "cell_type": "markdown",
      "source": [],
      "metadata": {
        "id": "IXSpwEv3EYlq"
      }
    }
  ]
}